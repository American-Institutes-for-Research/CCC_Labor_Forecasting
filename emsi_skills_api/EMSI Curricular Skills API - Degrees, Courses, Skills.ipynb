{
 "cells": [
  {
   "cell_type": "code",
   "execution_count": 716,
   "id": "d50f3d33",
   "metadata": {},
   "outputs": [],
   "source": [
    "import pandas, numpy, requests\n",
    "import warnings\n",
    "warnings.filterwarnings(\"ignore\")"
   ]
  },
  {
   "cell_type": "code",
   "execution_count": 801,
   "id": "19f14d10",
   "metadata": {},
   "outputs": [],
   "source": [
    "# Access token required to make any requests\n",
    "url = \"https://auth.emsicloud.com/connect/token\"\n",
    "payload = \"client_id=air&client_secret=e9bpmNV3&grant_type=client_credentials&scope=curricular_skills_prod:consumer\"\n",
    "token_header = {'content-type': 'application/x-www-form-urlencoded'}\n",
    "token_response = requests.request(\"POST\", url, data=payload, headers=token_header)\n",
    "token = token_response.json()['access_token']\n",
    "# Authorization header - token only good for 1 hour after retrieval\n",
    "header = {'Authorization': 'Bearer '+token}"
   ]
  },
  {
   "cell_type": "code",
   "execution_count": 113,
   "id": "508d3877",
   "metadata": {},
   "outputs": [
    {
     "name": "stdout",
     "output_type": "stream",
     "text": [
      "{\"data\":{\"attributes\":{\"message\":\"Service is healthy.\",\"healthy\":true}}}\n"
     ]
    }
   ],
   "source": [
    "# Check Health of Service\n",
    "url = \"https://emsiservices.com/curricular-skills/status/\"\n",
    "health = requests.request(\"GET\", url, headers=header)\n",
    "print(health.text)"
   ]
  },
  {
   "cell_type": "markdown",
   "id": "8f1dafac",
   "metadata": {},
   "source": [
    "### Pull Courses Directly"
   ]
  },
  {
   "cell_type": "code",
   "execution_count": 687,
   "id": "e73c2f9f",
   "metadata": {},
   "outputs": [],
   "source": [
    "def pull_courses(token, offset=0):\n",
    "    search_url = \"https://emsiservices.com/curricular-skills/courses/search\"\n",
    "    headers = {'Authorization': 'Bearer '+token,'Content-Type': \"application/json\"}\n",
    "    # Required Params: site='ccc', isPublished=true, limit <= 100\n",
    "    search_payload = '{ \\\"data\\\": { \\\"type\\\": \\\"courseSearch\\\", \\\"attributes\\\": { \\\"filter\\\": { \\\"site\\\": { \\\"in\\\": [\\\"ccc\\\"]}, \\\"isPublished\\\": true}, \\\"limit\\\": 100, \\\"offset\\\": '+str(offset)+' }}}'\n",
    "    search = requests.post(url=search_url, data=search_payload, headers=headers)\n",
    "    search = search.json()\n",
    "    #print(search)\n",
    "    r = search['data']\n",
    "    courses = []\n",
    "    for course in r:\n",
    "        cdict = {'id':course['id'], 'course_id':course['attributes']['courseId'], 'title':\\\n",
    "                course['attributes']['title'], 'description':course['attributes']['description'], \\\n",
    "                'skills':course['attributes']['skills'], 'credits':course['attributes']['credits'], \\\n",
    "                'url':course['attributes']['url'],'updated':course['attributes']['updatedAt']}\n",
    "        courses.append(cdict)\n",
    "    df = pandas.DataFrame(courses)\n",
    "    return(df)"
   ]
  },
  {
   "cell_type": "code",
   "execution_count": 670,
   "id": "51f8405a",
   "metadata": {},
   "outputs": [],
   "source": [
    "def pull_all_courses(token):\n",
    "    offset = 0\n",
    "    courses = []\n",
    "    first_batch = pull_courses(token, offset=offset)\n",
    "    courses.append(first_batch)\n",
    "    total = search['meta']['totalAvailable']\n",
    "    offset += 100\n",
    "    while offset < total:\n",
    "        batch = pull_courses(token, offset=offset)\n",
    "        courses.append(batch)\n",
    "        offset += 100\n",
    "    df = pandas.concat(courses)\n",
    "    df = df.reset_index(drop=True)\n",
    "    return(df)"
   ]
  },
  {
   "cell_type": "code",
   "execution_count": 785,
   "id": "8edece51",
   "metadata": {},
   "outputs": [],
   "source": [
    "# Run\n",
    "df = pull_all_courses(token)\n",
    "df = df.rename(columns={'id':'course_id','course_id':'course_code'})\n",
    "df.to_excel('C:/WDEMP/EMSI/Curricular Skills API/CCC_courses.xlsx')"
   ]
  },
  {
   "cell_type": "markdown",
   "id": "616e969e",
   "metadata": {},
   "source": [
    "### API Taxonomy Links Courses to Degrees (called Groups)\n",
    "#### Validate groups by pulling them w/ different queries\n",
    "##### Groups by groupTypeClass"
   ]
  },
  {
   "cell_type": "code",
   "execution_count": 638,
   "id": "2948ddf6",
   "metadata": {},
   "outputs": [],
   "source": [
    "# Retreive groupTypeClasses\n",
    "# EMSI-defined, CCC populated - all groupTypes will be under 1 groupTypeClass\n",
    "url = \"https://emsiservices.com/curricular-skills/group-type-class\"\n",
    "gtc = requests.request(\"GET\", url, headers=header)\n",
    "gtc = gtc.json()\n",
    "gtc = pandas.DataFrame(gtc['data'])\n",
    "gtc['name'],gtc['createdAt'], gtc['updatedAt'] = '','',''\n",
    "for i in gtc.index:\n",
    "    gtc.loc[i, 'name'] = gtc.loc[i, 'attributes']['name']\n",
    "    try:\n",
    "        gtc.loc[i, 'createdAt'] = gtc.loc[i, 'attributes']['createdAt']\n",
    "        gtc.loc[i, 'updatedAt'] = gtc.loc[i, 'attributes']['updatedAt']\n",
    "    except:\n",
    "        pass\n",
    "del gtc['attributes']\n",
    "gtc_ids = gtc.id.values\n",
    "gtc_names = gtc.name.values\n",
    "groupTypeClasses = dict(zip(gtc_names, gtc_ids))"
   ]
  },
  {
   "cell_type": "code",
   "execution_count": 788,
   "id": "d5c9122d",
   "metadata": {},
   "outputs": [],
   "source": [
    "def groups_by_class(class_id, token, sort='ascending'):\n",
    "    url = \"https://emsiservices.com/curricular-skills/groups/search\"\n",
    "    header = {'Authorization': \"Bearer \"+token,'Content-Type': \"application/json\"}\n",
    "    payload = \"{ \\\"data\\\": { \\\"type\\\": \\\"groupSearch\\\", \\\"attributes\\\": {\\\"filter\\\": { \\\"site\\\": { \\\"in\\\": [ \\\"ccc\\\" ] },\\\"groupTypeClass\\\": { \\\"in\\\": [ \\\"\"+class_id+\"\\\" ] }, \\\"isPublished\\\": true }, \\\"sort\\\": [ [ \\\"title\\\", \\\"\"+sort+\"\\\" ] ], \\\"limit\\\": 100} } }\"\n",
    "    response = requests.post(url, data=payload, headers=header)\n",
    "    response = response.json()\n",
    "    print(response['meta']['totalAvailable'])\n",
    "    data = response['data']\n",
    "    rows = []\n",
    "    for group in data:\n",
    "        gdict = {'group_id':group['id'], 'title':group['attributes']['title'], 'description':\\\n",
    "                 group['attributes']['description'], 'courses':group['attributes']['courses'],\\\n",
    "                 'url':group['attributes']['url'], 'updated':group['attributes']['updatedAt']}\n",
    "        rows.append(gdict)\n",
    "    df = pandas.DataFrame(rows)\n",
    "    return(df)"
   ]
  },
  {
   "cell_type": "code",
   "execution_count": 562,
   "id": "efd26a88",
   "metadata": {
    "collapsed": true
   },
   "outputs": [
    {
     "name": "stdout",
     "output_type": "stream",
     "text": [
      "Non-credit\n",
      "0\n",
      "Micro-credential/Badge\n",
      "0\n",
      "Course\n",
      "0\n",
      "Certificate\n",
      "115\n",
      "Professional Degree\n",
      "0\n",
      "Associate Degree\n",
      "120\n",
      "Bachelor Degree\n",
      "0\n",
      "Minor\n",
      "0\n",
      "Master Degree\n",
      "0\n",
      "Doctoral Degree\n",
      "0\n",
      "Postbaccalaureate Certificate\n",
      "0\n",
      "Other\n",
      "0\n",
      "License\n",
      "0\n"
     ]
    }
   ],
   "source": [
    "# Retrieving groups in each groupTypeClass\n",
    "for groupTypeClass in group_types.keys():\n",
    "    print(groupTypeClass)\n",
    "    gbc = groups_by_class(group_types[groupTypeClass], token)\n",
    "# Only 2 groupTypeCLasses filled by CCC: 'Certificate' and 'Associate Degree'"
   ]
  },
  {
   "cell_type": "code",
   "execution_count": 774,
   "id": "abddee00",
   "metadata": {},
   "outputs": [],
   "source": [
    "# Pulling all groups from the 2 populated groupTypeClasses: 1) Certification and 2) Associate degree\n",
    "cert_class_id = groupTypeClasses['Certificate']\n",
    "as_class_id = groupTypeClasses['Associate Degree']\n",
    "cert_groups1 = groups_by_class(cert_class_id, token)\n",
    "cert_groups2 = groups_by_class(cert_class_id, token, sort='descending')\n",
    "cert_groups = pandas.concat([cert_groups1, cert_groups2])\n",
    "cert_groups = cert_groups.drop_duplicates(subset='group_id').reset_index(drop=True)\n",
    "as_groups1 = groups_by_class(as_class_id, token)\n",
    "as_groups2 = groups_by_class(as_class_id, token, sort='descending')\n",
    "as_groups = pandas.concat([as_groups1, as_groups2])\n",
    "as_groups = as_groups.drop_duplicates(subset='group_id').reset_index(drop=True)\n",
    "as_groups['groupTypeClass'] = 'Associate Degree'\n",
    "cert_groups['groupTypeClass'] = 'Certificate'\n",
    "all_groups = pandas.concat([cert_groups, as_groups])\n",
    "all_groups = all_groups.reset_index(drop=True)"
   ]
  },
  {
   "cell_type": "markdown",
   "id": "65a339e9",
   "metadata": {},
   "source": [
    "##### Groups by group Type"
   ]
  },
  {
   "cell_type": "code",
   "execution_count": 643,
   "id": "e1e98dfe",
   "metadata": {},
   "outputs": [],
   "source": [
    "# Retrieve Group Types\n",
    "group_types_url = \"https://emsiservices.com/curricular-skills/group-types/search\"\n",
    "group_types_payload = \"{ \\\"data\\\": { \\\"type\\\": \\\"groupTypeSearch\\\", \\\"attributes\\\": { \\\"limit\\\": 100, \\\"filter\\\": {\\\"site\\\": { \\\"in\\\": [ \\\"ccc\\\" ] } } } } }\"\n",
    "gt_headers = {'Authorization': \"Bearer \"+token,'Content-Type': \"application/json\"}\n",
    "resp = requests.post(group_types_url, data=group_types_payload, headers=gt_headers)\n",
    "resp = resp.json() #  8 groups available\n",
    "group_type_ids = [x['id'] for x in resp['data']]\n",
    "group_type_labels = [x['attributes']['label'] for x in resp['data']]\n",
    "group_types = dict(zip(group_type_labels, group_type_ids))\n",
    "# Format, extract relevant data\n",
    "gts = pandas.DataFrame(resp['data'])\n",
    "gts['groups'] = ''\n",
    "for i in gts.index:\n",
    "    gts.loc[i, 'title'] = gts.loc[i, 'attributes']['label']\n",
    "    gts.at[i, 'groups'] = gts.loc[i, 'attributes']['groups']\n",
    "    gts.loc[i, 'groupTypeClass'] = gts.loc[i, 'attributes']['groupTypeClass']['name']\n",
    "    gts.loc[i, 'updated'] = gts.loc[i, 'attributes']['updatedAt']\n",
    "gts.to_excel('C:/WDEMP/EMSI/Curricular Skills API/groupTypes.xlsx')"
   ]
  },
  {
   "cell_type": "code",
   "execution_count": 818,
   "id": "301b498d",
   "metadata": {},
   "outputs": [],
   "source": [
    "def groups_by_type(group_type_id, access_token):\n",
    "    \"\"\"Retrieve groups given group type id\"\"\"\n",
    "    \n",
    "    url = \"https://emsiservices.com/curricular-skills/groups/search\"\n",
    "    payload  = \"{ \\\"data\\\": { \\\"type\\\": \\\"groupSearch\\\", \\\"attributes\\\": { \\\"limit\\\": 100, \\\"filter\\\": {\\\"site\\\": { \\\"in\\\": [ \\\"ccc\\\" ] }, \\\"groupType\\\": { \\\"in\\\": [ \\\"\"+group_type_id+\"\\\" ]}, \\\"isPublished\\\": true} } } }\"\n",
    "    header = {'Authorization': 'Bearer '+token}\n",
    "    response = requests.post(url, data=payload, headers=header)\n",
    "    r = response.json()\n",
    "    r = r['data']\n",
    "    rows = []\n",
    "    for group in r:\n",
    "        gdict = {'group_id':group['id'], 'title':group['attributes']['title'], 'description':\\\n",
    "                 group['attributes']['description'], 'courses':group['attributes']['courses'],\\\n",
    "                 'url':group['attributes']['url'], 'updated':group['attributes']['updatedAt'],\\\n",
    "                 'groupType':group['attributes']['groupType']['label'],'groupType_id':group['attributes']['groupType']['id']}\n",
    "        rows.append(gdict)\n",
    "    return(pandas.DataFrame(rows))"
   ]
  },
  {
   "cell_type": "code",
   "execution_count": 819,
   "id": "5ddc8b12",
   "metadata": {},
   "outputs": [],
   "source": [
    "bc = groups_by_type(group_types['Basic Certificate'], token)\n",
    "ac = groups_by_type(group_types['Advanced Certificate'], token)\n",
    "ags = groups_by_type(group_types['Associate in General Studies'], token)\n",
    "aa = groups_by_type(group_types['Associate in Arts'], token)\n",
    "aas = groups_by_type(group_types['Associate in Applied Science'], token)\n",
    "aes = groups_by_type(group_types['Associate in Engineering Science'], token)\n",
    "afs = groups_by_type(group_types['Associate in Fine Arts'], token)\n",
    "asc = groups_by_type(group_types['Associate in Science'], token)"
   ]
  },
  {
   "cell_type": "markdown",
   "id": "89b7b778",
   "metadata": {},
   "source": [
    "### Groups match exactly across queries"
   ]
  },
  {
   "cell_type": "code",
   "execution_count": 822,
   "id": "482337ef",
   "metadata": {},
   "outputs": [],
   "source": [
    "# Compare: groups by groupType vs. groups by groupTypeClass\n",
    "len(gbt.group_id.unique()), len(all_groups.group_id.unique()) #235 vs. 235\n",
    "groups_from_types = gbt.group_id.unique()\n",
    "groups_from_classes = all_groups.group_id.unique()\n",
    "missing_groups = [x for x in groups_from_classes if x not in groups_from_types] #[]\n",
    "# Groups are the same whether queried from groupTypes or groupTypeClasses"
   ]
  },
  {
   "cell_type": "markdown",
   "id": "a3fd21f0",
   "metadata": {},
   "source": [
    "### Courses by Degree"
   ]
  },
  {
   "cell_type": "code",
   "execution_count": 483,
   "id": "e663d937",
   "metadata": {},
   "outputs": [],
   "source": [
    "def courses_by_group(group_id, access_token):\n",
    "    search_url = \"https://emsiservices.com/curricular-skills/courses/search\"\n",
    "    headers = {'Authorization': 'Bearer '+token,'Content-Type': \"application/json\"}\n",
    "    # Required Params: site='ccc', isPublished=true, limit <= 100\n",
    "    search_payload = '{ \\\"data\\\": { \\\"type\\\": \\\"courseSearch\\\", \\\"attributes\\\": { \\\"filter\\\": { \\\"site\\\": { \\\"in\\\": [\\\"ccc\\\"]}, \\\"isPublished\\\": true, \\\"associatedGroups\\\": { \\\"in\\\": [\\\"'+group_id+'\\\"]}}, \\\"limit\\\": 100}}}'\n",
    "    search = requests.post(url=search_url, data=search_payload, headers=headers)\n",
    "    search = search.json()\n",
    "    group_count = 0\n",
    "    r = search['data']\n",
    "    courses = []\n",
    "    for course in r:\n",
    "        cdict = {'id':course['id'], 'course_id':course['attributes']['courseId'], 'title':\\\n",
    "                course['attributes']['title'], 'description':course['attributes']['description'], \\\n",
    "                'skills':course['attributes']['skills'], 'credits':course['attributes']['credits'], \\\n",
    "                'url':course['attributes']['url'],'updated':course['attributes']['updatedAt']}\n",
    "        courses.append(cdict)\n",
    "    return(pandas.DataFrame(courses))\n",
    "    # total available = 1,588"
   ]
  },
  {
   "cell_type": "code",
   "execution_count": 494,
   "id": "100f1ad3",
   "metadata": {},
   "outputs": [],
   "source": [
    "def courses_by_group_type(group_type_id, token):\n",
    "    gbt = groups_by_type(group_type_id, token)\n",
    "    all_courses = []\n",
    "    for group_id in gbt.group_id.unique().tolist():\n",
    "        courses = courses_by_group(group_id, token)\n",
    "        courses['group_id'] = group_id\n",
    "        courses['group'] = gbt[gbt['group_id']==group_id].title.values[0]\n",
    "        all_courses.append(courses)\n",
    "    df = pandas.concat(all_courses)\n",
    "    df = df.reset_index(drop=True)\n",
    "    df = df[['group','course_id','title','description','credits','skills','updated',\\\n",
    "             'id','group_id', 'url']]\n",
    "    return(df)"
   ]
  },
  {
   "cell_type": "code",
   "execution_count": null,
   "id": "d80b346d",
   "metadata": {},
   "outputs": [],
   "source": [
    "# Courses by group (by group type)\n",
    "basic_cert_courses = courses_by_group_type(group_types['Basic Certificate'], token)\n",
    "adv_cert_courses = courses_by_group_type(group_types['Advanced Certificate'], token)\n",
    "arts_courses = courses_by_group_type(group_types['Associate in Arts'], token)\n",
    "applied_science_courses = courses_by_group_type(group_types['Associate in Applied Science'], token)\n",
    "eng_science_courses = courses_by_group_type(group_types['Associate in Engineering Science'], token)\n",
    "fine_arts_courses = courses_by_group_type(group_types['Associate in Fine Arts'], token)\n",
    "science_courses = courses_by_group_type(group_types['Associate in Science'], token)\n",
    "general_courses = courses_by_group_type(group_types['Associate in General Studies'], token)\n",
    "basic_cert_courses['group_type'] = 'Basic Certification'\n",
    "adv_cert_courses['group_type'] = 'Advanced Certification'\n",
    "arts_courses['group_type'] = 'Associate in Arts'\n",
    "applied_science_courses['group_type'] = 'Associate in Applied Science'\n",
    "eng_science_courses['group_type'] = 'Associate in Engineering Science'\n",
    "fine_arts_courses['group_type'] = 'Associate in Fine Arts'\n",
    "science_courses['group_type'] = 'Associate in Science'\n",
    "general_courses['group_type'] = 'Associate in General Studies'\n",
    "all_courses = pandas.concat([basic_cert_courses,adv_cert_courses,arts_courses,applied_science_courses,\\\n",
    "                            eng_science_courses,fine_arts_courses,science_courses])\n",
    "all_courses = all_courses.reset_index(drop=True)"
   ]
  },
  {
   "cell_type": "markdown",
   "id": "e6dded37",
   "metadata": {},
   "source": [
    "### Degrees linked to their courses (with courses linked to their skills)"
   ]
  },
  {
   "cell_type": "code",
   "execution_count": 832,
   "id": "31210c52",
   "metadata": {},
   "outputs": [],
   "source": [
    "# df of all degrees (groups)\n",
    "gbt = pandas.concat([bc, ac, ags, aa, aas, aes, afs, asc])\n",
    "gbt['course_count'] = gbt['courses'].apply(len)\n",
    "gbt = gbt.rename(columns={'title':'degree','groupType':'degree_type','groupType_id':'degree_type_id','group_id':'degree_id'})\n",
    "gbt = gbt[['degree','degree_id','degree_type','description','url','updated','course_count','courses']]\n",
    "gbt = gbt.reset_index(drop=True)"
   ]
  },
  {
   "cell_type": "code",
   "execution_count": 880,
   "id": "9a1c0422",
   "metadata": {},
   "outputs": [],
   "source": [
    "def stretch_degrees(df):\n",
    "    out = pandas.DataFrame(columns=df.columns)\n",
    "    out_rows = 0\n",
    "    for i in df.index:\n",
    "        courses = df.loc[i, 'courses']\n",
    "        count = df.loc[i, 'course_count']\n",
    "        for index in range(0, count):\n",
    "            out.loc[out_rows] = df.loc[i]\n",
    "            out.loc[out_rows, 'course_id'] = courses[index]['id']\n",
    "            out_rows += 1\n",
    "    del out['courses']\n",
    "    return(out)"
   ]
  },
  {
   "cell_type": "code",
   "execution_count": null,
   "id": "b441ec22",
   "metadata": {},
   "outputs": [],
   "source": [
    "degrees = stretch_degrees(gbt) # only 892 classes linked to a degree\n",
    "courses = df.rename(columns={'description':'course_description','url':'course_url','updated':'course_updated',\\\n",
    "                             'title':'course_title'})\n",
    "degrees = degrees.merge(courses, how='left', on='course_id')"
   ]
  },
  {
   "cell_type": "code",
   "execution_count": 896,
   "id": "6e3bcdbb",
   "metadata": {},
   "outputs": [],
   "source": [
    "def stretch_courses(df):\n",
    "    df['skill_count'] = df['skills'].apply(len)\n",
    "    out = pandas.DataFrame(columns=df.columns)\n",
    "    out_rows = 0\n",
    "    for i in df.index:\n",
    "        courses = df.loc[i, 'skills']\n",
    "        skill_count = df.loc[i, 'skill_count']\n",
    "        for index in range(0, skill_count):\n",
    "            out.loc[out_rows] = df.loc[i]\n",
    "            out.loc[out_rows, 'skill_id'] = courses[index]\n",
    "            out_rows += 1\n",
    "    del out['skills']\n",
    "    return(out)"
   ]
  },
  {
   "cell_type": "code",
   "execution_count": 866,
   "id": "81ee44dd",
   "metadata": {
    "scrolled": true
   },
   "outputs": [],
   "source": [
    "# Degree-course-skill level file\n",
    "# row for every degree-course-skill pairing\n",
    "dcs = stretch_courses(degrees)\n",
    "skills = pandas.read_excel('C:/WDEMP/EMSI/Curricular Skills API/EMSI_skills.xlsx')\n",
    "dcs = dcs.merge(skills[['id','name','type']] , how='left', left_on='skill_id', right_on='id')\n",
    "del dcs['id']\n",
    "dcs.to_excel('C:/WDEMP/EMSI/Curricular Skills API/degrees_courses_skills.xlsx')"
   ]
  },
  {
   "cell_type": "code",
   "execution_count": 870,
   "id": "34c67f79",
   "metadata": {},
   "outputs": [],
   "source": [
    "# Courses not linked to a degree via group\n",
    "courses = df.course_id.unique().tolist() # 1,588 total courses\n",
    "degree_courses = degrees.course_id.unique().tolist() # 892 linked to degrees\n",
    "unlinked = [x for x in courses if x not in degree_courses] # 696 unlinked to a degree\n",
    "loose = df[df['course_id'].isin(unlinked)]\n",
    "ls = stretch_courses(loose)\n",
    "ls = ls.merge(skills[['id','name','type']] , how='left', left_on='skill_id', right_on='id')\n",
    "del ls['id']\n",
    "ls.to_excel('C:/WDEMP/EMSI/Curricular Skills API/loose_courses_skills.xlsx')"
   ]
  },
  {
   "cell_type": "markdown",
   "id": "52cffa07",
   "metadata": {},
   "source": [
    "### Export degree info"
   ]
  },
  {
   "cell_type": "code",
   "execution_count": 775,
   "id": "6f8f7eba",
   "metadata": {},
   "outputs": [],
   "source": [
    "# Export degree program info as all_groups\n",
    "# Adding groupTypes to group-level df (all_groups)\n",
    "types = dict(zip(gts['id'], gts['groups']))\n",
    "gt_names = dict(zip(gts['id'], gts['title']))\n",
    "for i in all_groups.index:\n",
    "    gid = all_groups.loc[i, 'group_id']\n",
    "    for gt in types.keys():\n",
    "        group_ids = [x['id'] for x in types[gt]]\n",
    "        if gid in group_ids:\n",
    "            all_groups.loc[i, 'groupType_id'] = gt\n",
    "            all_groups.loc[i, 'groupType_title'] = gt_names[gt]\n",
    "all_groups['course_count'] = all_groups['courses'].apply(len)\n",
    "all_groups['transfer'] = all_groups['url'].str.contains('transfer')\n",
    "all_groups['transfer'] = all_groups['transfer'].replace({True:1,False:0})\n",
    "all_groups = all_groups.rename(columns={'title':'name','groupType_title':'degree','groupTypeClass':'degree_type'})\n",
    "all_groups = all_groups[['name','degree','degree_type','description','transfer','url','courses','course_count','updated',\\\n",
    "                         'group_id','groupType_id']]\n",
    "all_groups = all_groups.sort_values(by=['name','degree'])\n",
    "all_groups = all_groups.reset_index(drop=True)\n",
    "all_groups.to_excel('C:/WDEMP/EMSI/Curricular Skills API/CCC_degrees.xlsx')"
   ]
  },
  {
   "cell_type": "markdown",
   "id": "0fc26423",
   "metadata": {},
   "source": [
    "### Courses linked to Skills (no degree info)"
   ]
  },
  {
   "cell_type": "code",
   "execution_count": 923,
   "id": "9723735e",
   "metadata": {},
   "outputs": [],
   "source": [
    "ls = ls.rename(columns={'title':'course_title','description':'course_description','url':'course_url',\\\n",
    "                        'updated':'course_updated'})\n",
    "cols = ls.columns.tolist()\n",
    "cols = cols[:9]\n",
    "linked = dcs[cols]\n",
    "linked = linked.merge(skills[['id','name','type']] , how='left', left_on='skill_id', right_on='id')\n",
    "courses_skills = pandas.concat([linked, ls])\n",
    "del courses_skills['id']\n",
    "courses_skills = courses_skills.reset_index(drop=True)\n",
    "courses_skills.to_excel('C:/WDEMP/EMSI/Curricular Skills API/courses_skills.xlsx')"
   ]
  }
 ],
 "metadata": {
  "kernelspec": {
   "display_name": "Python 3 (ipykernel)",
   "language": "python",
   "name": "python3"
  },
  "language_info": {
   "codemirror_mode": {
    "name": "ipython",
    "version": 3
   },
   "file_extension": ".py",
   "mimetype": "text/x-python",
   "name": "python",
   "nbconvert_exporter": "python",
   "pygments_lexer": "ipython3",
   "version": "3.9.12"
  }
 },
 "nbformat": 4,
 "nbformat_minor": 5
}
