{
 "cells": [
  {
   "cell_type": "code",
   "execution_count": 716,
   "id": "449a8e13",
   "metadata": {},
   "outputs": [],
   "source": [
    "import pandas, numpy, requests\n",
    "import warnings\n",
    "warnings.filterwarnings(\"ignore\")"
   ]
  },
  {
   "cell_type": "markdown",
   "id": "2dc15fcf",
   "metadata": {},
   "source": [
    "### Access token - lasts 1 hour"
   ]
  },
  {
   "cell_type": "code",
   "execution_count": 773,
   "id": "65e0cbc6",
   "metadata": {},
   "outputs": [],
   "source": [
    "# Access token required to make any requests\n",
    "url = \"https://auth.emsicloud.com/connect/token\"\n",
    "payload = \"client_id=air&client_secret=e9bpmNV3&grant_type=client_credentials&scope=curricular_skills_prod:consumer\"\n",
    "token_header = {'content-type': 'application/x-www-form-urlencoded'}\n",
    "token_response = requests.request(\"POST\", url, data=payload, headers=token_header)\n",
    "token = token_response.json()['access_token']\n",
    "# Authorization header - token only good for 1 hour after retrieval\n",
    "header = {'Authorization': 'Bearer '+token}"
   ]
  },
  {
   "cell_type": "code",
   "execution_count": 113,
   "id": "572f0d75",
   "metadata": {},
   "outputs": [
    {
     "name": "stdout",
     "output_type": "stream",
     "text": [
      "{\"data\":{\"attributes\":{\"message\":\"Service is healthy.\",\"healthy\":true}}}\n"
     ]
    }
   ],
   "source": [
    "# Check Health of Service\n",
    "url = \"https://emsiservices.com/curricular-skills/status/\"\n",
    "health = requests.request(\"GET\", url, headers=header)\n",
    "print(health.text)"
   ]
  },
  {
   "cell_type": "markdown",
   "id": "9b21a642",
   "metadata": {},
   "source": [
    "### Retrieve Courses Directly"
   ]
  },
  {
   "cell_type": "code",
   "execution_count": 687,
   "id": "c27d340c",
   "metadata": {},
   "outputs": [],
   "source": [
    "def pull_courses(token, offset=0):\n",
    "    search_url = \"https://emsiservices.com/curricular-skills/courses/search\"\n",
    "    headers = {'Authorization': 'Bearer '+token,'Content-Type': \"application/json\"}\n",
    "    # Required Params: site='ccc', isPublished=true, limit <= 100\n",
    "    search_payload = '{ \\\"data\\\": { \\\"type\\\": \\\"courseSearch\\\", \\\"attributes\\\": { \\\"filter\\\": { \\\"site\\\": { \\\"in\\\": [\\\"ccc\\\"]}, \\\"isPublished\\\": true}, \\\"limit\\\": 100, \\\"offset\\\": '+str(offset)+' }}}'\n",
    "    search = requests.post(url=search_url, data=search_payload, headers=headers)\n",
    "    search = search.json()\n",
    "    r = search['data']\n",
    "    courses = []\n",
    "    for course in r:\n",
    "        cdict = {'id':course['id'], 'course_id':course['attributes']['courseId'], 'title':\\\n",
    "                course['attributes']['title'], 'description':course['attributes']['description'], \\\n",
    "                'skills':course['attributes']['skills'], 'credits':course['attributes']['credits'], \\\n",
    "                'url':course['attributes']['url'],'updated':course['attributes']['updatedAt']}\n",
    "        courses.append(cdict)\n",
    "    df = pandas.DataFrame(courses)\n",
    "    return(df)"
   ]
  },
  {
   "cell_type": "code",
   "execution_count": 670,
   "id": "676434e9",
   "metadata": {},
   "outputs": [],
   "source": [
    "def pull_all_courses(token):\n",
    "    offset = 0\n",
    "    courses = []\n",
    "    first_batch = pull_courses(token, offset=offset)\n",
    "    courses.append(first_batch)\n",
    "    total = search['meta']['totalAvailable']\n",
    "    offset += 100\n",
    "    while offset < total:\n",
    "        batch = pull_courses(token, offset=offset)\n",
    "        courses.append(batch)\n",
    "        offset += 100\n",
    "    df = pandas.concat(courses)\n",
    "    df = df.reset_index(drop=True)\n",
    "    return(df)"
   ]
  },
  {
   "cell_type": "code",
   "execution_count": 785,
   "id": "c45b2420",
   "metadata": {},
   "outputs": [],
   "source": [
    "df = pull_all_courses(token)\n",
    "df = df.rename(columns={'id':'course_id','course_id':'course_code'})\n",
    "df.to_excel('C:/WDEMP/EMSI/Curricular Skills API/CCC_courses.xlsx')"
   ]
  }
 ],
 "metadata": {
  "kernelspec": {
   "display_name": "Python 3 (ipykernel)",
   "language": "python",
   "name": "python3"
  },
  "language_info": {
   "codemirror_mode": {
    "name": "ipython",
    "version": 3
   },
   "file_extension": ".py",
   "mimetype": "text/x-python",
   "name": "python",
   "nbconvert_exporter": "python",
   "pygments_lexer": "ipython3",
   "version": "3.9.12"
  }
 },
 "nbformat": 4,
 "nbformat_minor": 5
}
